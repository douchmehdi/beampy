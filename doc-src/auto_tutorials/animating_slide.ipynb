{
  "cells": [
    {
      "cell_type": "code",
      "execution_count": null,
      "metadata": {
        "collapsed": false
      },
      "outputs": [],
      "source": [
        "%matplotlib inline"
      ]
    },
    {
      "cell_type": "markdown",
      "metadata": {},
      "source": [
        "\nHow to animate apparition of Beampy modules in your slide\n=========================================================\n\nBeampy allows to fragment the apparition of modules in your slide.\nThe syntax uses the python \"iterable\" notation, with index:\n\n- [0]: the module only appears on the first layer\n- [:]: the module appears on all layers \n- [1:]: the module appears from second layer and until the last\n\nOk, let's stats some real life examples with squares.\n\nAnimate 3 colored squares\n-------------------------\n\nWe create 3 squares with 3 different colors (stored in C list), and add each one to a given layer.\nThis is done in the loop with `[i]` at the end of the rectangle command. \n\nWithout the for loop this could also be written:\n\n- `rectangle(width=100, height=100, color=C[0])[0]`\n- `rectangle(width=100, height=100, color=C[1])[1]`\n- `rectangle(width=100, height=100, color=C[2])[2]`\n\n"
      ]
    },
    {
      "cell_type": "code",
      "execution_count": null,
      "metadata": {
        "collapsed": false
      },
      "outputs": [],
      "source": [
        "from beampy import *\n\ndoc = document(quiet=True, cache=False)\n\nC = ['dodgerblue', 'crimson', 'forestgreen']\n\nwith slide('The 3 rectangles apparition'):\n\n    for i in range(3):\n        rectangle(width=100, height=100, color=C[i])[i]\n\nsave('./tuto_html_outputs/animation.html')"
      ]
    },
    {
      "cell_type": "markdown",
      "metadata": {},
      "source": [
        "Click on the iframe and use the arrows (left and right) to make the\ntwo other squares appear.\n\n.. raw:: html\n\n   <iframe src=\"../_static/tuto_html_outputs/animation.html\" width=\"100%\" height=\"500px\"></iframe>\n\nKeep the squares on the screen!\n-------------------------------\n\nNow we want that each time a square appears it stay on the next layer of the slide.\nTo do so, we only need to add \":\" to \"[i]\"\n\n\n"
      ]
    },
    {
      "cell_type": "code",
      "execution_count": null,
      "metadata": {
        "collapsed": false
      },
      "outputs": [],
      "source": [
        "doc = document(quiet=True, cache=False)\n\nC = ['dodgerblue', 'crimson', 'forestgreen']\n\nwith slide('The 3 rectangles appears and stay'):\n\n    for i in range(3):\n        rectangle(width=100, height=100, color=C[i])[i:]\n\nsave('./tuto_html_outputs/animation2.html')"
      ]
    },
    {
      "cell_type": "markdown",
      "metadata": {},
      "source": [
        ".. raw:: html\n\n   <iframe src=\"../_static/tuto_html_outputs/animation2.html\" width=\"100%\" height=\"500px\"></iframe>\n\nRemove the two first square at the end\n--------------------------------------\n\nNow for the last layer we want the two first squares to disappear and to keep only the last one remains \n\n"
      ]
    },
    {
      "cell_type": "code",
      "execution_count": null,
      "metadata": {
        "collapsed": false
      },
      "outputs": [],
      "source": [
        "doc = document(quiet=True, cache=False)\n\nC = ['dodgerblue', 'crimson', 'forestgreen']\n\nwith slide('The 3 rectangles appear and stay until last'):\n\n    rectangle(width=100, height=100, color=C[0])[0:1]\n    rectangle(width=100, height=100, color=C[1])[1]\n    rectangle(width=100, height=100, color=C[2])[2]\n    \nsave('./tuto_html_outputs/animation3.html')"
      ]
    },
    {
      "cell_type": "markdown",
      "metadata": {},
      "source": [
        ".. raw:: html\n\n   <iframe src=\"../_static/tuto_html_outputs/animation3.html\" width=\"100%\" height=\"500px\"></iframe>\n\nAdd more layers than the number of modules\n------------------------------------------\n\nNow lets add an additional layer where only the first and the last squares are displayed\n\n"
      ]
    },
    {
      "cell_type": "code",
      "execution_count": null,
      "metadata": {
        "collapsed": false
      },
      "outputs": [],
      "source": [
        "doc = document(quiet=True, cache=False)\n\nC = ['dodgerblue', 'crimson', 'forestgreen']\n\nwith slide('Add more layers than modules in the slide'):\n\n    rectangle(width=100, height=100, color=C[0])[0,1,3]\n    rectangle(width=100, height=100, color=C[1])[1]\n    rectangle(width=100, height=100, color=C[2])[2,3]\n    \nsave('./tuto_html_outputs/animation4.html')"
      ]
    },
    {
      "cell_type": "markdown",
      "metadata": {},
      "source": [
        ".. raw:: html\n\n   <iframe src=\"../_static/tuto_html_outputs/animation4.html\" width=\"100%\" height=\"500px\"></iframe>\n\nAnimation also works on groups\n------------------------------\n\nWe now create two groups with squares inside them and make this two groups appears one by one.\n\n\n"
      ]
    },
    {
      "cell_type": "code",
      "execution_count": null,
      "metadata": {
        "collapsed": false
      },
      "outputs": [],
      "source": [
        "doc = document(quiet=True, cache=False)\n\nC = ['dodgerblue', 'crimson', 'forestgreen']\n\nwith slide('Group rectangles on different layers'):\n\n    with group(height=150)[0]:\n        for i in range(3):\n            rectangle(width=100, height=100, x='auto', y='center', color=C[i])\n\n    with group(height=150)[1]:\n        for i in range(3):\n            rectangle(width=100, height=100, x='auto', y='center', color=C[i], opacity=0.5)\n    \nsave('./tuto_html_outputs/animation5.html')"
      ]
    },
    {
      "cell_type": "markdown",
      "metadata": {},
      "source": [
        ".. raw:: html\n\n   <iframe src=\"../_static/tuto_html_outputs/animation5.html\" width=\"100%\" height=\"500px\"></iframe>\n\nHow to animate slide titles?\n----------------------------\n\nLet's make changed the slide title for each layers\n\n\n"
      ]
    },
    {
      "cell_type": "code",
      "execution_count": null,
      "metadata": {
        "collapsed": false
      },
      "outputs": [],
      "source": [
        "doc = document(quiet=True, cache=False)\n\nC = ['dodgerblue', 'crimson', 'forestgreen']\n\nwith slide():\n    title('The first layer title')[0]\n    title('The second layer title')[1]\n    title('The third layer title')[2]\n    title('The last layer with all squares')[3]\n    \n    for i in range(3):\n        rectangle(width=100, height=100, color=C[i])[i,3]\n\nsave('./tuto_html_outputs/animation6.html')"
      ]
    },
    {
      "cell_type": "markdown",
      "metadata": {},
      "source": [
        ".. raw:: html\n\n   <iframe src=\"../_static/tuto_html_outputs/animation6.html\" width=\"100%\" height=\"500px\"></iframe>\n\n\n"
      ]
    }
  ],
  "metadata": {
    "kernelspec": {
      "display_name": "Python 3",
      "language": "python",
      "name": "python3"
    },
    "language_info": {
      "codemirror_mode": {
        "name": "ipython",
        "version": 3
      },
      "file_extension": ".py",
      "mimetype": "text/x-python",
      "name": "python",
      "nbconvert_exporter": "python",
      "pygments_lexer": "ipython3",
      "version": "3.6.9"
    }
  },
  "nbformat": 4,
  "nbformat_minor": 0
}