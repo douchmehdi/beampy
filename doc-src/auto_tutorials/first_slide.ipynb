{
  "cells": [
    {
      "cell_type": "code",
      "execution_count": null,
      "metadata": {
        "collapsed": false
      },
      "outputs": [],
      "source": [
        "%matplotlib inline"
      ]
    },
    {
      "cell_type": "markdown",
      "metadata": {},
      "source": [
        "\nYour first presentation\n=======================\n\nImport Beampy\n-------------\n\nTo start, you need to import beampy module in your python file.\n\n.. code-block:: python\n\n   from beampy import *\n\nYour first slide: Hello Beampy\n------------------------------\n\nA Beampy presentation is based on the **document** class, in which all slides and their contents will be stored. Let's create our first slide.\n\n\n"
      ]
    },
    {
      "cell_type": "code",
      "execution_count": null,
      "metadata": {
        "collapsed": false
      },
      "outputs": [],
      "source": [
        "from beampy import *\n\n# We first create a new document for our presentation\n# Remove quiet=True to see Beampy compiler output\ndoc = document(quiet=True)\n\n# Then we create a new slide with the title \"My first new slide\"\nwith slide('My first slide title'):\n\n    # All the slide contents are functions added inside the with statement.\n    # Here we add a text content using the Beampy module text\n    text('Hello Beampy!')\n\n# At the end we save our presentation to an HTML file.\n# The save command will launch the compilation of all slides of the\n# presentation.\nsave('hello.html')\n\n# If you want to save it to pdf just change the file extension.\n# save('hello.pdf')\n\n# This line is just for displaying the slide in this tutorial webpage\n# Remove it in your presentation\ndisplay_matplotlib(gcs())"
      ]
    },
    {
      "cell_type": "markdown",
      "metadata": {},
      "source": [
        "Change the position of the text element\n---------------------------------------\n\nBy default the text element is centred in *x* direction and automatically\npositioned in *y* --which means that if you add other elements they will be\nequally spaced vertically--.\n\nNow we change the *x* and *y* with numerical values (x=0, y=0), the text is\nnow in the upper-left corner.\n\n"
      ]
    },
    {
      "cell_type": "code",
      "execution_count": null,
      "metadata": {
        "collapsed": false
      },
      "outputs": [],
      "source": [
        "with slide('My first slide title'):\n    text('Hello Beampy!', x=0, y=0)\n\ndisplay_matplotlib(gcs())"
      ]
    },
    {
      "cell_type": "markdown",
      "metadata": {},
      "source": [
        "When value of *x* and *y* are lower than 1.0, they are by default in percent\nof slide (or group) width. So if you set *x=0.5* and *y=0.5x3/4* (as the\naspect ratio of the theme is 4/3) the text will be anchored (default anchor is\nupper-left) to the center of the slide.\n\n"
      ]
    },
    {
      "cell_type": "code",
      "execution_count": null,
      "metadata": {
        "collapsed": false
      },
      "outputs": [],
      "source": [
        "with slide('My first slide title'):\n    text('Hello Beampy!', x=0.5, y=0.5*3/4.)\n\ndisplay_matplotlib(gcs())"
      ]
    },
    {
      "cell_type": "markdown",
      "metadata": {},
      "source": [
        "Now we could also set fixed position for *x* and *y*. To do so, if *x* and *y*\nare greater than 1.0 and their coordinates will be in pixel.\n\n"
      ]
    },
    {
      "cell_type": "code",
      "execution_count": null,
      "metadata": {
        "collapsed": false
      },
      "outputs": [],
      "source": [
        "with slide('My first slide title'):\n    text('Hello Beampy!', x=100, y=100)\n\ndisplay_matplotlib(gcs())"
      ]
    },
    {
      "cell_type": "markdown",
      "metadata": {},
      "source": [
        "You could also give coordinates as strings and specify the units (cm, pt),\nlike `x='2cm'`.\n\n**Congratulation** you have created your first Beampy slide. You can now look at:\n\n* The gallery of `beampy_modules` to include other elements than text and get\n  Beampy modules options.\n* The tutorial on `sphx_glr_auto_tutorials_positioning_system.py`.\n\n"
      ]
    }
  ],
  "metadata": {
    "kernelspec": {
      "display_name": "Python 3",
      "language": "python",
      "name": "python3"
    },
    "language_info": {
      "codemirror_mode": {
        "name": "ipython",
        "version": 3
      },
      "file_extension": ".py",
      "mimetype": "text/x-python",
      "name": "python",
      "nbconvert_exporter": "python",
      "pygments_lexer": "ipython3",
      "version": "3.6.9"
    }
  },
  "nbformat": 4,
  "nbformat_minor": 0
}