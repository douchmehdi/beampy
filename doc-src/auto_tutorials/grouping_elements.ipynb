{
  "cells": [
    {
      "cell_type": "code",
      "execution_count": null,
      "metadata": {
        "collapsed": false
      },
      "outputs": [],
      "source": [
        "%matplotlib inline"
      ]
    },
    {
      "cell_type": "markdown",
      "metadata": {},
      "source": [
        "\nHow to group Beampy modules\n===========================\n\nBeampy allows to group your module to move operate them as a group (a\nbit like minipage in beamer). Group could be used to create margins,\ncolumns layout for instance.\n\nLet's play with group to see how it works.\n\nCreate a simple group\n---------------------\n\n"
      ]
    },
    {
      "cell_type": "code",
      "execution_count": null,
      "metadata": {
        "collapsed": false
      },
      "outputs": [],
      "source": [
        "from beampy import *\n\ndoc = document(quiet=True)\n\nwith slide('Group tutorial'):\n    with group() as g:\n        rectangle(width='80%', height=100)\n        text('This is a nice rectangle')\n\n    #show the group contour\n    g.add_border()\n\ndisplay_matplotlib(gcs())"
      ]
    },
    {
      "cell_type": "markdown",
      "metadata": {},
      "source": [
        "In this example you can see that a group is created around the two\nmodules (the rectangle and the text). These two modules have been\npositioned \"centered\" horizontally and \"distributed spacing\"\nvertically taking the presentation height as available space.\n\nNow lets try to give a size to this group\n\n"
      ]
    },
    {
      "cell_type": "code",
      "execution_count": null,
      "metadata": {
        "collapsed": false
      },
      "outputs": [],
      "source": [
        "with slide('Group tutorial'):\n    with group(width=300, height=300) as g:\n        rectangle(width='80%', height=100)\n        text('This is a nice rectangle')\n\n    #show the group contour\n    g.add_border()\n\ndisplay_matplotlib(gcs())"
      ]
    },
    {
      "cell_type": "markdown",
      "metadata": {},
      "source": [
        "The rectangle width is now 80% of the with of the group. The\nvertical available space to compute the spacing of the two modules\nis now the height of the group.\n\nGroup inside a group\n--------------------\n\nLets increase the complexity a bit of our example to create a piece\nof art with 3 squares\u00a0horizontally distributed in the group. To do\nso we need to group these 3 rectangles with a group inside the first\ngroup. The position of the rectangles should be set to x='auto' to\nmake horizontal distribution and y to 0 or 'center'.\n\n\n"
      ]
    },
    {
      "cell_type": "code",
      "execution_count": null,
      "metadata": {
        "collapsed": false
      },
      "outputs": [],
      "source": [
        "with slide('Group tutorial'):\n    with group(width=300, height=300) as g:\n        with group(width=\"100%\", height=\"30%\") as g2:\n            for c in ['green', 'orange', 'crimson']:\n                rectangle(width='30%', height=\"100%\", x='auto', y=0, color=c)\n\n        text('This is a nice rectangle')\n\n    #show the group contour\n    g.add_border()\n    g2.add_border()\n    \ndisplay_matplotlib(gcs())"
      ]
    },
    {
      "cell_type": "markdown",
      "metadata": {},
      "source": [
        "You can see that the group and the text are now equally spaced\nvertically inside the first group. You can group as many group as\nyou need to create your complex layout.\n\nCreate a two columns layout\n---------------------------\n\nTo do so we create two group with a width of 44% (this will create 3\nblank spaces with a width 2% of the presentation width).\n\n"
      ]
    },
    {
      "cell_type": "code",
      "execution_count": null,
      "metadata": {
        "collapsed": false
      },
      "outputs": [],
      "source": [
        "colw = '47%'\ncolh = '90%'\n\nwith slide('Group tutorial'):\n    with group(width=colw, height=colh, y='center', x='auto') as g1:\n        rectangle(width='90%', height=200, color='orange')\n        text('This is a nice rectangle')\n\n    with group(width=colw, height=colh, y=g1.top+0, x='auto') as g2:\n        rectangle(width='90%', height=200, color='crimson')\n        text('This is a second nice rectangle')\n        \n    #show the group contour\n    g1.add_border()\n    g2.add_border()\n    \ndisplay_matplotlib(gcs())"
      ]
    }
  ],
  "metadata": {
    "kernelspec": {
      "display_name": "Python 3",
      "language": "python",
      "name": "python3"
    },
    "language_info": {
      "codemirror_mode": {
        "name": "ipython",
        "version": 3
      },
      "file_extension": ".py",
      "mimetype": "text/x-python",
      "name": "python",
      "nbconvert_exporter": "python",
      "pygments_lexer": "ipython3",
      "version": "3.6.9"
    }
  },
  "nbformat": 4,
  "nbformat_minor": 0
}