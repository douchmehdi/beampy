{
  "nbformat_minor": 0, 
  "nbformat": 4, 
  "cells": [
    {
      "execution_count": null, 
      "cell_type": "code", 
      "source": [
        "%matplotlib inline"
      ], 
      "outputs": [], 
      "metadata": {
        "collapsed": false
      }
    }, 
    {
      "source": [
        "\ntikz\n====\n\nAdd pgf/tikz drawing to the slide.\n\nYou could find great examples here http://www.texample.net/tikz/examples/\n\n\n"
      ], 
      "cell_type": "markdown", 
      "metadata": {}
    }, 
    {
      "execution_count": null, 
      "cell_type": "code", 
      "source": [
        "from beampy import *\n\n# Remove quiet=True to get beampy compilation outputs\ndoc = document(quiet=True)\n\ntkz_options = r\"scale=1.4, every node/.style={minimum size=1cm},on grid\"\n\nwith slide('A tikz figure'):\n    tikz(r\"\"\"\n\\begin{scope}[\n           yshift=-83,every node/.append style={\n           yslant=0.5,xslant=-1},yslant=0.5,xslant=-1\n           ]\n       \\draw[step=4mm, black] (0,0) grid (5,5); \n       \\draw[black,thick] (0,0) rectangle (5,5);%borders\n       \\fill[greenMW] (2.05,2.05) rectangle (2.35,2.35); % center pixel\n       \\fill[greenMW] (1.65,2.05) rectangle (1.95,2.35); %left\n       \\fill[greenMW] (2.45,2.05) rectangle (2.75,2.35); %right\n       \\fill[greenMW] (2.05,2.45) rectangle (2.35,2.75); %top\n       \\fill[greenMW] (2.05,1.95) rectangle (2.35,1.65); %bottom\n% 8 -pixel setting\n       \\fill[greenMW] (1.65,2.45) rectangle (1.95,2.75); %top-left\n       \\fill[greenMW] (2.45,2.45) rectangle (2.75,2.75); %top-right\n       \\fill[greenMW] (2.75,1.95) rectangle (2.45,1.65); %bottom-right\n       \\fill[greenMW] (1.65,1.95) rectangle (1.95,1.65); %bottom-left\n% 2. ring\n       \\fill[greenMW] (1.25,1.55) rectangle (1.55,1.25); %bottom-left\n       \\fill[greenMW] (0.85,1.55) rectangle (1.15,1.25); %bottom-left\n       \\fill[greenMW] (0.85,1.15) rectangle (1.15,0.85); %bottom-left\n       \\fill[greenMW] (1.25,0.75) rectangle (1.55,0.45); %bottom-left\n   \\end{scope}\n%\n   \\begin{scope}[\n           yshift=0,every node/.append style={\n           yslant=0.5,xslant=-1},yslant=0.5,xslant=-1\n           ]\n       \\fill[white,fill opacity=0.9] (0,0) rectangle (5,5);\n       \\draw[step=4mm, black] (0,0) grid (5,5); %grid definition\n       \\draw[black,thick] (0,0) rectangle (5,5);%borders\n       \\fill[greenMW] (2.05,2.05) rectangle (2.35,2.35); % center pixel\n       \\fill[greenMW] (1.65,2.05) rectangle (1.95,2.35); %left\n       \\fill[greenMW] (2.45,2.05) rectangle (2.75,2.35); % right\n       \\fill[greenMW] (2.05,2.45) rectangle (2.35,2.75); % top\n       \\fill[greenMW] (2.05,1.95) rectangle (2.35,1.65); % bottom\n% 4 -pixel setting\n       \\fill[greenMW] (1.65,2.45) rectangle (1.95,2.75); %top-left\n       \\fill[greenMW] (2.45,2.45) rectangle (2.75,2.75); %top-right\n       \\fill[greenMW] (2.75,1.95) rectangle (2.45,1.65); %bottom-right\n       \\fill[greenMW] (1.65,1.95) rectangle (1.95,1.65); %bottom-left\n% 2. ring\n       \\fill[orange] (1.25,1.55) rectangle (1.55,1.25); \n       \\fill[orange] (0.85,1.55) rectangle (1.15,1.25); \n       \\fill[orange] (0.85,1.15) rectangle (1.15,0.85); \n       \\fill[blue] (1.25,0.75) rectangle (1.55,0.45); \n   \\end{scope}\n%\n% draw annotations\n%\n   \\draw[-latex,thick,orange](-3,5)node[left]{ }\n       to[out=0,in=90] (-.4,1.4);\n   \\draw[-latex,thick,blue](-3,5)node[left]{ }\n       to[out=0,in=90] (0.8,1.15);\n   \\draw[-latex,thick,greenMW](-3,5)node[left]{3 patches}\n       to[out=0,in=90] (0,2.8);\n%\n   \\draw[-latex,thick,greenMW](-3,-2)node[left]{1 patch}\n       to[out=0,in=200] (-1,-.9);\n   \\draw[thick,gray!70!black](6,4) node {4 neighbourhood rule};\n   \\draw[thick,gray!70!black](6,-2) node {8 neighbourhood rule};\n%\n    \"\"\", figure_options=tkz_options,\n         x='center', y='center')\n\n\ndisplay_matplotlib(gcs())"
      ], 
      "outputs": [], 
      "metadata": {
        "collapsed": false
      }
    }, 
    {
      "source": [
        "Module arguments\n================\n\n.. autoclass:: beampy.tikz\n   :noindex:\n\n\n"
      ], 
      "cell_type": "markdown", 
      "metadata": {}
    }
  ], 
  "metadata": {
    "kernelspec": {
      "display_name": "Python 2", 
      "name": "python2", 
      "language": "python"
    }, 
    "language_info": {
      "mimetype": "text/x-python", 
      "nbconvert_exporter": "python", 
      "name": "python", 
      "file_extension": ".py", 
      "version": "2.7.16", 
      "pygments_lexer": "ipython2", 
      "codemirror_mode": {
        "version": 2, 
        "name": "ipython"
      }
    }
  }
}