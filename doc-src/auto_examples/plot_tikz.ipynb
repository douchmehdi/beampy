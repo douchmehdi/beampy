{
  "nbformat_minor": 0, 
  "nbformat": 4, 
  "cells": [
    {
      "execution_count": null, 
      "cell_type": "code", 
      "source": [
        "%matplotlib inline"
      ], 
      "outputs": [], 
      "metadata": {
        "collapsed": false
      }
    }, 
    {
      "source": [
        "\ntikz\n====\n\nAdd pgf/tikz drawing to the slide.\n\nYou could find great examples here http://www.texample.net/tikz/examples/\n\n\n"
      ], 
      "cell_type": "markdown", 
      "metadata": {}
    }, 
    {
      "execution_count": null, 
      "cell_type": "code", 
      "source": [
        "from beampy import *\n\n# Remove quiet=True to get beampy compilation outputs\ndoc = document(quiet=True)\n\nlatex_cmd = r\"\\newcounter{density}\\setcounter{density}{10}\"\ntex_packages = ['ifthen']\n\nwith slide('A tikz figure'):\n    tikz(r\"\"\"\n    \\def\\couleur{SeaGreen}\n    \\path[coordinate] (0,0)  coordinate(A)\n                ++( 60:12cm) coordinate(B)\n                ++(-60:12cm) coordinate(C);\n    \\draw[fill=\\couleur!\\thedensity] (A) -- (B) -- (C) -- cycle;\n    \\foreach \\x in {1,...,15}{%\n        \\pgfmathsetcounter{density}{\\thedensity+10}\n        \\setcounter{density}{\\thedensity}\n        \\path[coordinate] coordinate(X) at (A){};\n        \\path[coordinate] (A) -- (B) coordinate[pos=.15](A)\n                            -- (C) coordinate[pos=.15](B)\n                            -- (X) coordinate[pos=.15](C);\n        \\draw[fill=\\couleur!\\thedensity] (A)--(B)--(C)--cycle;\n    }\n    \"\"\", latex_pre_tikzpicture=latex_cmd,\n         tex_packages=tex_packages,\n         x='center', y='center')\n\n\ndisplay_matplotlib(gcs())"
      ], 
      "outputs": [], 
      "metadata": {
        "collapsed": false
      }
    }, 
    {
      "source": [
        "Module arguments\n================\n\n.. autoclass:: beampy.tikz\n   :noindex:\n\n\n"
      ], 
      "cell_type": "markdown", 
      "metadata": {}
    }
  ], 
  "metadata": {
    "kernelspec": {
      "display_name": "Python 2", 
      "name": "python2", 
      "language": "python"
    }, 
    "language_info": {
      "mimetype": "text/x-python", 
      "nbconvert_exporter": "python", 
      "name": "python", 
      "file_extension": ".py", 
      "version": "2.7.16", 
      "pygments_lexer": "ipython2", 
      "codemirror_mode": {
        "version": 2, 
        "name": "ipython"
      }
    }
  }
}