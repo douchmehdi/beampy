{
  "nbformat_minor": 0, 
  "nbformat": 4, 
  "cells": [
    {
      "execution_count": null, 
      "cell_type": "code", 
      "source": [
        "%matplotlib inline"
      ], 
      "outputs": [], 
      "metadata": {
        "collapsed": false
      }
    }, 
    {
      "source": [
        "\nline\n====\n\nEasiest way to create lines in svg rather than using the :py:mod:beampy.svg.\n\n\n"
      ], 
      "cell_type": "markdown", 
      "metadata": {}
    }, 
    {
      "execution_count": null, 
      "cell_type": "code", 
      "source": [
        "from beampy import *\n\n# Remove quiet=True to get Beampy render outputs\ndoc = document(quiet=True)\n\nwith slide('Svg: Line'):\n    line(800-20, 600-50, x=20, y=50, color='red')\n    hline(300, color='orange', linewidth='4px')\n    vline(400, color='crimson', linewidth='10px', opacity=0.5)\n\ndisplay_matplotlib(gcs())"
      ], 
      "outputs": [], 
      "metadata": {
        "collapsed": false
      }
    }, 
    {
      "source": [
        "Module arguments\n================\n\n.. autoclass:: beampy.line\n   :noindex:\n\n.. autofunction:: beampy.hline\n   :noindex:\n\n.. autofunction:: beampy.vline\n   :noindex:\n\n\n"
      ], 
      "cell_type": "markdown", 
      "metadata": {}
    }
  ], 
  "metadata": {
    "kernelspec": {
      "display_name": "Python 2", 
      "name": "python2", 
      "language": "python"
    }, 
    "language_info": {
      "mimetype": "text/x-python", 
      "nbconvert_exporter": "python", 
      "name": "python", 
      "file_extension": ".py", 
      "version": "2.7.16", 
      "pygments_lexer": "ipython2", 
      "codemirror_mode": {
        "version": 2, 
        "name": "ipython"
      }
    }
  }
}