{
  "nbformat_minor": 0, 
  "nbformat": 4, 
  "cells": [
    {
      "execution_count": null, 
      "cell_type": "code", 
      "source": [
        "%matplotlib inline"
      ], 
      "outputs": [], 
      "metadata": {
        "collapsed": false
      }
    }, 
    {
      "source": [
        "\ncode\n====\n\nInclude code in your presentation.\n\nCode coloration is managed by `Pygments <http://pygments.org/>`_\n\n<div class=\"alert alert-danger\"><h4>Warning</h4><p>This module is in very draft stage !!!</p></div>\n\n\n"
      ], 
      "cell_type": "markdown", 
      "metadata": {}
    }, 
    {
      "execution_count": null, 
      "cell_type": "code", 
      "source": [
        "from beampy import *\n\n# Remove quiet=True to get beampy compilation outputs\ndoc = document(quiet=True)\n\nwith slide('A small python code'):\n    c = code(\"\"\"\n    from pylab import *\n\n    n = range(10)\n\n    plot(n, n*random.rand(), 'ko')\n\n    for i in range(10):\n        print(i)\n\n    \"\"\", width=500)\n\ndisplay_matplotlib(gcs())"
      ], 
      "outputs": [], 
      "metadata": {
        "collapsed": false
      }
    }, 
    {
      "source": [
        "Module arguments\n================\n\n.. autoclass:: beampy.code\n   :noindex:\n\n\n"
      ], 
      "cell_type": "markdown", 
      "metadata": {}
    }
  ], 
  "metadata": {
    "kernelspec": {
      "display_name": "Python 2", 
      "name": "python2", 
      "language": "python"
    }, 
    "language_info": {
      "mimetype": "text/x-python", 
      "nbconvert_exporter": "python", 
      "name": "python", 
      "file_extension": ".py", 
      "version": "2.7.16", 
      "pygments_lexer": "ipython2", 
      "codemirror_mode": {
        "version": 2, 
        "name": "ipython"
      }
    }
  }
}