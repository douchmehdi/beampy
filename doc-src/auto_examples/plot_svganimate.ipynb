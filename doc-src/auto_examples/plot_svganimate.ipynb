{
  "nbformat_minor": 0, 
  "nbformat": 4, 
  "cells": [
    {
      "execution_count": null, 
      "cell_type": "code", 
      "source": [
        "%matplotlib inline"
      ], 
      "outputs": [], 
      "metadata": {
        "collapsed": false
      }
    }, 
    {
      "source": [
        "\nanimatesvg\n==========\n\nCreate animation from a list of svg files or a list of matplotlib figures.\n\nFrom svg file list\n------------------\n\n"
      ], 
      "cell_type": "markdown", 
      "metadata": {}
    }, 
    {
      "execution_count": null, 
      "cell_type": "code", 
      "source": [
        "from beampy import *\n\n# Remove quiet=True to get beampy compilation outputs\ndoc = document(quiet=True)\n\nwith slide('Animation from svg files'):\n    animatesvg(\"./ressources/svg_anims/*.svg\", width=\"600\")\n\ndisplay_matplotlib(gcs())"
      ], 
      "outputs": [], 
      "metadata": {
        "collapsed": false
      }
    }, 
    {
      "source": [
        "From matplotlib figure list\n----------------------------\n\n\n"
      ], 
      "cell_type": "markdown", 
      "metadata": {}
    }, 
    {
      "execution_count": null, 
      "cell_type": "code", 
      "source": [
        "import pylab as p\n\nwith slide('Animation from matplotlib figures'):\n\n    anim_figs = []\n    for i in range(20):\n        fig = p.figure()\n        x =  p.linspace(0,2*p.pi)\n        p.plot(x, p.sin(x+i))\n        p.plot(x, p.sin(x+i+p.pi))\n        p.close(fig)\n        anim_figs += [fig]\n\n    animatesvg(anim_figs)\n\nsave('./examples_html_outputs/animatesvg.html')"
      ], 
      "outputs": [], 
      "metadata": {
        "collapsed": false
      }
    }, 
    {
      "source": [
        "HTML output\n===========\n\n.. raw:: html\n\n    <iframe src=\"../_static/examples_html_outputs/animatesvg.html\" width=\"100%\" height=\"500px\"></iframe>\n\nModule arguments\n================\n\n.. autoclass:: beampy.animatesvg\n   :noindex:\n\n\n"
      ], 
      "cell_type": "markdown", 
      "metadata": {}
    }
  ], 
  "metadata": {
    "kernelspec": {
      "display_name": "Python 2", 
      "name": "python2", 
      "language": "python"
    }, 
    "language_info": {
      "mimetype": "text/x-python", 
      "nbconvert_exporter": "python", 
      "name": "python", 
      "file_extension": ".py", 
      "version": "2.7.16", 
      "pygments_lexer": "ipython2", 
      "codemirror_mode": {
        "version": 2, 
        "name": "ipython"
      }
    }
  }
}