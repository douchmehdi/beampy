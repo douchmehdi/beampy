{
  "nbformat_minor": 0, 
  "nbformat": 4, 
  "cells": [
    {
      "execution_count": null, 
      "cell_type": "code", 
      "source": [
        "%matplotlib inline"
      ], 
      "outputs": [], 
      "metadata": {
        "collapsed": false
      }
    }, 
    {
      "source": [
        "\ntable of contents\n=================\n\nCreate a table of content for your presentation. \n\nTo create the structure of your presentation you could use the following function:\n- section('Section title')\n- subsection('Subsection title')\n- subsubsection('Subsubsection title')\n\n\n"
      ], 
      "cell_type": "markdown", 
      "metadata": {}
    }, 
    {
      "execution_count": null, 
      "cell_type": "code", 
      "source": [
        "from beampy import *\n\n# Remove quiet=True to get Beampy render outputs\ndoc = document(quiet=True)\n\nsection('Introduction')\nwith slide('Table of content'):\n    tableofcontents()\n    \nsection('The main topic')\nsubsection('Argument 1')\nwith slide('Display only the current section'):\n    tableofcontents(currentsection=True)\n    \nsubsubsection('Demonstration 1')\n\nwith slide('Current subsection'):\n    tableofcontents(currentsubsection=True)\n    \nsubsection('Argument 2')\nsubsubsection('Demonstration 1')\nsubsubsection('Demonstration 2')\n\nsection('Conclusion')\nwith slide('Two columns table of contents'):\n    with group(width='45%', x='auto', y='center') as t1:\n        tableofcontents(x=0, y=0, sections=[1, 2],\n                        section_style='square',\n                        subsection_style='round')\n\n    with group(width=t1.width, x='auto', y=t1.top+0) as t2:\n        tableofcontents(x=0, y=0, sections=3,\n                        section_style='square')\n\n    t1.add_border()\n    t2.add_border()\n    \ndisplay_matplotlib('slide_0')\nsave('./examples_html_outputs/toc.html')"
      ], 
      "outputs": [], 
      "metadata": {
        "collapsed": false
      }
    }, 
    {
      "source": [
        "HTML output\n===========\n\n.. raw:: html\n\n    <iframe src=\"../_static/examples_html_outputs/toc.html\" width=\"100%\" height=\"500px\"></iframe>\n\nModule arguments\n================\n\n.. autoclass:: beampy.tableofcontents\n   :noindex:\n\n"
      ], 
      "cell_type": "markdown", 
      "metadata": {}
    }
  ], 
  "metadata": {
    "kernelspec": {
      "display_name": "Python 2", 
      "name": "python2", 
      "language": "python"
    }, 
    "language_info": {
      "mimetype": "text/x-python", 
      "nbconvert_exporter": "python", 
      "name": "python", 
      "file_extension": ".py", 
      "version": "2.7.16", 
      "pygments_lexer": "ipython2", 
      "codemirror_mode": {
        "version": 2, 
        "name": "ipython"
      }
    }
  }
}