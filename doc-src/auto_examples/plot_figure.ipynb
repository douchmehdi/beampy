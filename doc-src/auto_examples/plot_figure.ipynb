{
  "nbformat_minor": 0, 
  "nbformat": 4, 
  "cells": [
    {
      "execution_count": null, 
      "cell_type": "code", 
      "source": [
        "%matplotlib inline"
      ], 
      "outputs": [], 
      "metadata": {
        "collapsed": false
      }
    }, 
    {
      "source": [
        "\nfigure\n======\n\nInsert a figure inside a slide.\n\nFigure format can be:\n\n* pdf\n* svg\n* jpeg\n* png\n* gif\n* Matplotlib figure object\n* Bokeh figure object\n\nFrom one file\n-------------\n\n"
      ], 
      "cell_type": "markdown", 
      "metadata": {}
    }, 
    {
      "execution_count": null, 
      "cell_type": "code", 
      "source": [
        "from beampy import *\n\n# Remove quiet=True to get beampy compilation outputs\ndoc = document(quiet=True)\n\nwith slide('A figure from a file'):\n    figure('./ressources/test_0.svg', width=400)\n\n\ndisplay_matplotlib(gcs())"
      ], 
      "outputs": [], 
      "metadata": {
        "collapsed": false
      }
    }, 
    {
      "source": [
        "From Matplotlib\n---------------\n\n\n"
      ], 
      "cell_type": "markdown", 
      "metadata": {}
    }, 
    {
      "execution_count": null, 
      "cell_type": "code", 
      "source": [
        "with slide('A matplotlib figure'):\n    import matplotlib.pyplot as mpl\n    import numpy as np\n\n    f = mpl.figure()\n    mpl.plot(np.random.rand(100), np.random.rand(100), 'o')\n\n    figure(f, width=500)\n\ndisplay_matplotlib(gcs())"
      ], 
      "outputs": [], 
      "metadata": {
        "collapsed": false
      }
    }, 
    {
      "source": [
        "From a gif\n----------\n\n\n\n"
      ], 
      "cell_type": "markdown", 
      "metadata": {}
    }, 
    {
      "execution_count": null, 
      "cell_type": "code", 
      "source": [
        "with slide('An animated gif'):\n    figure('../../tests/test.gif', width='50%')"
      ], 
      "outputs": [], 
      "metadata": {
        "collapsed": false
      }
    }, 
    {
      "source": [
        "From Bokeh\n----------\n\n<div class=\"alert alert-info\"><h4>Note</h4><p>No svg export available for now, check the\n   html file of the prensetation</p></div>\n\n\n"
      ], 
      "cell_type": "markdown", 
      "metadata": {}
    }, 
    {
      "execution_count": null, 
      "cell_type": "code", 
      "source": [
        "with slide('A bokeh figure'):\n    from bokeh.plotting import figure as bokfig\n\n    p = bokfig(height=300, width=600)\n    x = np.random.rand(100)\n    y = np.random.rand(100)\n    p.circle(x, y, legend=\"sin(x)\")\n\n    figure(p)\n\n# Export the 3 slides of the presentation\nsave('./examples_html_outputs/figure.html')"
      ], 
      "outputs": [], 
      "metadata": {
        "collapsed": false
      }
    }, 
    {
      "source": [
        "HTML output\n===========\n\n.. raw:: html\n\n    <iframe src=\"../_static/examples_html_outputs/figure.html\" width=\"100%\" height=\"500px\"></iframe>\n\n\nModule arguments\n================\n\n.. autoclass:: beampy.figure\n   :noindex:\n\n\n"
      ], 
      "cell_type": "markdown", 
      "metadata": {}
    }
  ], 
  "metadata": {
    "kernelspec": {
      "display_name": "Python 2", 
      "name": "python2", 
      "language": "python"
    }, 
    "language_info": {
      "mimetype": "text/x-python", 
      "nbconvert_exporter": "python", 
      "name": "python", 
      "file_extension": ".py", 
      "version": "2.7.16", 
      "pygments_lexer": "ipython2", 
      "codemirror_mode": {
        "version": 2, 
        "name": "ipython"
      }
    }
  }
}