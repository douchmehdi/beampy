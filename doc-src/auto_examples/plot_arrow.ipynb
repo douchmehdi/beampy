{
  "nbformat_minor": 0, 
  "nbformat": 4, 
  "cells": [
    {
      "execution_count": null, 
      "cell_type": "code", 
      "source": [
        "%matplotlib inline"
      ], 
      "outputs": [], 
      "metadata": {
        "collapsed": false
      }
    }, 
    {
      "source": [
        "\narrow\n=====\n\nAdd arrow to slide. Arrow are drawn using tikz.\n\n\n"
      ], 
      "cell_type": "markdown", 
      "metadata": {}
    }, 
    {
      "execution_count": null, 
      "cell_type": "code", 
      "source": [
        "from beampy import *\n\n# Remove quiet=True to get beampy compilation outputs\ndoc = document(quiet=True)\n\nwith slide('Draw an arrow'):\n    arrow(x=10, y=0.1, dx=780, dy=0, lw=6, color='Crimson')\n\n    rectangle(x=0.05, y=0.3, width=150, height=150,\n              color='crimson', edgecolor='None')\n\n    t1 = text('First', y=0.25, x=0.55)\n    a1 = arrow(x=t1.right+0, y=t1.bottom+0, dx=100, dy=100)\n    t2 = text('Second', y=a1.bottom+0, x=a1.right+0)\n    a2 = arrow(x=t2.center+0, y=t2.bottom+0, dx=-100, dy=150, color='red',\n               style='<->', bend='left', head_style='latex', lw=4)\n    t3 = text('Third', y=a2.bottom+bottom(0), x=a2.left+right(0))\n\n    a3 = arrow(x=t3.left+0, y=t3.center+0, dx=-350, dy=-170,\n               color='LightGreen', lw=5, out_angle=180, in_angle=0,\n               dashed=True)\n\n\ndisplay_matplotlib(gcs())"
      ], 
      "outputs": [], 
      "metadata": {
        "collapsed": false
      }
    }, 
    {
      "source": [
        "Module arguments\n================\n\n.. autofunction:: beampy.arrow\n   :noindex:\n\n\n"
      ], 
      "cell_type": "markdown", 
      "metadata": {}
    }
  ], 
  "metadata": {
    "kernelspec": {
      "display_name": "Python 2", 
      "name": "python2", 
      "language": "python"
    }, 
    "language_info": {
      "mimetype": "text/x-python", 
      "nbconvert_exporter": "python", 
      "name": "python", 
      "file_extension": ".py", 
      "version": "2.7.16", 
      "pygments_lexer": "ipython2", 
      "codemirror_mode": {
        "version": 2, 
        "name": "ipython"
      }
    }
  }
}