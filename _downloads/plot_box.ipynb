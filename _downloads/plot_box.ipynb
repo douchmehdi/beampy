{
  "nbformat_minor": 0, 
  "nbformat": 4, 
  "cells": [
    {
      "execution_count": null, 
      "cell_type": "code", 
      "source": [
        "%matplotlib inline"
      ], 
      "outputs": [], 
      "metadata": {
        "collapsed": false
      }
    }, 
    {
      "source": [
        "\nbox\n===\n\nCreate a boxed group, that could have a title. \n\n\n"
      ], 
      "cell_type": "markdown", 
      "metadata": {}
    }, 
    {
      "execution_count": null, 
      "cell_type": "code", 
      "source": [
        "from beampy import *\n\n# Remove quiet=True to get Beampy render outputs\ndoc = document(quiet=True)\n\n\nwith slide('Add nice boxes to group'):\n\n    with box(x=20, y='center', width=300, height='60%', title='Very very very long box title') as b1:\n        text('Box text')\n\n    with box(x=b1.right+10, y=b1.top+0, width=450,\n             title='Change color and drop-shadow', title_align='center',\n             color='crimson', shadow=True) as b2:\n        \n        text('Box text, with a centered title, and a nice crimson color', width='90%')\n\n    with box(x=b1.right+10, y=b2.bottom+50, width=b2.width, color='darkorange',\n             rounded=70, background_color='lightgray', linewidth=4, auto_height_margin=30) as b3:\n        \n        text('''\n            Without title for the box, more rounded angle, bigger\n            linewidth, and a background color\n            ''', align='center', width='90%')\n            \n\ndisplay_matplotlib(gcs())"
      ], 
      "outputs": [], 
      "metadata": {
        "collapsed": false
      }
    }, 
    {
      "source": [
        "Module arguments\n================\n\n.. autoclass:: beampy.box\n   :noindex:\n\n"
      ], 
      "cell_type": "markdown", 
      "metadata": {}
    }
  ], 
  "metadata": {
    "kernelspec": {
      "display_name": "Python 2", 
      "name": "python2", 
      "language": "python"
    }, 
    "language_info": {
      "mimetype": "text/x-python", 
      "nbconvert_exporter": "python", 
      "name": "python", 
      "file_extension": ".py", 
      "version": "2.7.13", 
      "pygments_lexer": "ipython2", 
      "codemirror_mode": {
        "version": 2, 
        "name": "ipython"
      }
    }
  }
}