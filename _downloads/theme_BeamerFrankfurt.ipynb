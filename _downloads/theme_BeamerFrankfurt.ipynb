{
  "nbformat_minor": 0, 
  "nbformat": 4, 
  "cells": [
    {
      "execution_count": null, 
      "cell_type": "code", 
      "source": [
        "%matplotlib inline"
      ], 
      "outputs": [], 
      "metadata": {
        "collapsed": false
      }
    }, 
    {
      "source": [
        "\nBeamerFrankfurt\n===============\n\nPort of the Beamer frankfurt theme to Beampy (with an headerbar that display TOC).\n\n\n"
      ], 
      "cell_type": "markdown", 
      "metadata": {}
    }, 
    {
      "execution_count": null, 
      "cell_type": "code", 
      "source": [
        "from beampy import *\n\ndoc = document(theme=\"BeamerFrankfurt\", quiet=True)\n\nwith slide():\n    maketitle('''Beampy theme ``BeamerFrankfurt\" inspired by it's Beamer version''',\n              author=['Author 1$^1$', 'Author 2$^2$'],\n              lead_author=1,\n              meeting='Beampy Users Meeting (BUM 2018)',\n              affiliation=['$^1$From Univ. of Python', '$^2$From university of HTML5, Paris'],\n              date='now')\n\nsection('Introduction')\nwith slide('Table of content'):\n    tableofcontents()\n\nsection('Main talk topic')\nsubsection('Subtopic 1')\nsubsection('Subtopic 2')\nwith slide('Subtopic2: Nice box'):\n    with box(title='Lorem Ipsum:', width='90%'):\n        text('''Lorem ipsum sapientem ne neque dolor erat,eros solet\n        invidunt duo Quisque aliquid leo. Pretium patrioque sociis eu\n        nihil Cum enim ad, ipsum alii vidisse justo id. Option\n        porttitor diam voluptua. Cu Eam augue dolor dolores quis, Nam\n        aliquando elitr Etiam consetetur. Fringilla lucilius mel\n        adipiscing rebum. Sit nulla Integer ad volumus, dicta\n        scriptorem viderer lobortis est Utinam, enim commune corrumpit\n        Aenean erat tellus. Metus sed amet dolore justo, gubergren\n        sed. ''', width='90%')\n        \nsubsection('Subtopic 3')\n\nsection('Conclusion')\nwith slide('Last slide'):\n    pass\n\nfor sl in range(4):\n    display_matplotlib('slide_%i' % sl)"
      ], 
      "outputs": [], 
      "metadata": {
        "collapsed": false
      }
    }
  ], 
  "metadata": {
    "kernelspec": {
      "display_name": "Python 2", 
      "name": "python2", 
      "language": "python"
    }, 
    "language_info": {
      "mimetype": "text/x-python", 
      "nbconvert_exporter": "python", 
      "name": "python", 
      "file_extension": ".py", 
      "version": "2.7.16", 
      "pygments_lexer": "ipython2", 
      "codemirror_mode": {
        "version": 2, 
        "name": "ipython"
      }
    }
  }
}