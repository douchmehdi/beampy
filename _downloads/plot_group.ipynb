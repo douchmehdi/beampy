{
  "nbformat_minor": 0, 
  "nbformat": 4, 
  "cells": [
    {
      "execution_count": null, 
      "cell_type": "code", 
      "source": [
        "%matplotlib inline"
      ], 
      "outputs": [], 
      "metadata": {
        "collapsed": false
      }
    }, 
    {
      "source": [
        "\ngroup\n=====\n\nGroup Beampy modules to place them easily.\n\nGrouping modules allows to create complex layout in your slide.\n\n\n"
      ], 
      "cell_type": "markdown", 
      "metadata": {}
    }, 
    {
      "execution_count": null, 
      "cell_type": "code", 
      "source": [
        "from beampy import *\n\n# Remove quiet=True to get Beampy render outputs\ndoc = document(quiet=True)\n\nwith slide('Grouping elements'):\n\n    # Using with statement:\n    with group(y=0.1, background='lightblue', width='90%') as g1:\n        text(\"I'm inside the first group\", y=0)\n        text('Me too!', y=\"+0.1\")\n\n\n    # Create two groups (g2 and g4) aligned on top \n    # and with automatic horizontal position\n    with group(x='auto', y=0.3, width=400, height=200, background='lightgreen') as g2:\n        text('At the group center', x='center', y='center')\n    \n        # Add child group to the parent group\n        with group(width='50%', background='red', x=g2.left+0, y=g2.bottom+bottom(0)) as g3:\n            text('A group in a group')\n\n        with group(width='50%', background='violet', x=g3.right+0, y=g3.top+0) as g3:\n            text('A group in a group')\n\n    with group(x='auto', y=g2.top+0, height=300, width=300) as g4:\n        text('''A last group with a bigger height and a lower width.\n             The text inside this group has the group width!''')\n\n    # Add a border to the last group\n    g4.add_border()\n\ndisplay_matplotlib(gcs())"
      ], 
      "outputs": [], 
      "metadata": {
        "collapsed": false
      }
    }, 
    {
      "source": [
        "Module arguments\n================\n\n.. autoclass:: beampy.group\n   :noindex:\n\n"
      ], 
      "cell_type": "markdown", 
      "metadata": {}
    }
  ], 
  "metadata": {
    "kernelspec": {
      "display_name": "Python 2", 
      "name": "python2", 
      "language": "python"
    }, 
    "language_info": {
      "mimetype": "text/x-python", 
      "nbconvert_exporter": "python", 
      "name": "python", 
      "file_extension": ".py", 
      "version": "2.7.13", 
      "pygments_lexer": "ipython2", 
      "codemirror_mode": {
        "version": 2, 
        "name": "ipython"
      }
    }
  }
}