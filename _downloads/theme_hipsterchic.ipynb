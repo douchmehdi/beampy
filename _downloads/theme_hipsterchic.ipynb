{
  "nbformat_minor": 0, 
  "nbformat": 4, 
  "cells": [
    {
      "execution_count": null, 
      "cell_type": "code", 
      "source": [
        "%matplotlib inline"
      ], 
      "outputs": [], 
      "metadata": {
        "collapsed": false
      }
    }, 
    {
      "source": [
        "\nHipsterChic\n===========\n\nRedefine the maketitle function in the theme with a background color and center\nthe title of slides.\n\n\n"
      ], 
      "cell_type": "markdown", 
      "metadata": {}
    }, 
    {
      "execution_count": null, 
      "cell_type": "code", 
      "source": [
        "from beampy import *\n\ndoc = document(theme=\"HipsterChic\", quiet=True)\n\nwith slide():\n    maketitle('Beampy theme ``HypsterChic\"',\n              author='Single Author',\n              subtitle='A very very very very very long subtitle on the right')\n\ndisplay_matplotlib(gcs())\n\nwith slide('Slide title are centered'):\n    pass\n\ndisplay_matplotlib(gcs())"
      ], 
      "outputs": [], 
      "metadata": {
        "collapsed": false
      }
    }
  ], 
  "metadata": {
    "kernelspec": {
      "display_name": "Python 2", 
      "name": "python2", 
      "language": "python"
    }, 
    "language_info": {
      "mimetype": "text/x-python", 
      "nbconvert_exporter": "python", 
      "name": "python", 
      "file_extension": ".py", 
      "version": "2.7.16", 
      "pygments_lexer": "ipython2", 
      "codemirror_mode": {
        "version": 2, 
        "name": "ipython"
      }
    }
  }
}