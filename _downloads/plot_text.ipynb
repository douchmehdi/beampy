{
  "nbformat_minor": 0, 
  "nbformat": 4, 
  "cells": [
    {
      "execution_count": null, 
      "cell_type": "code", 
      "source": [
        "%matplotlib inline"
      ], 
      "outputs": [], 
      "metadata": {
        "collapsed": false
      }
    }, 
    {
      "source": [
        "\ntext\n====\n\nAdd text to your slide.\n\nBy default text is processed by Latex and accept Latex syntax.\n\n\n"
      ], 
      "cell_type": "markdown", 
      "metadata": {}
    }, 
    {
      "execution_count": null, 
      "cell_type": "code", 
      "source": [
        "from beampy import *\n\n# Remove quiet=True to get beampy compilation outputs\ndoc = document(quiet=True)\n\nwith slide('Text module'):\n    text(r'A simple text with \\LaTeX syntax so you could write equation:')\n    text(r'$$\\sqrt{\\frac{x}{y}}$$')\n\n    t = text(r'You could align text to center by using the \\textbf{align} parameter',\n         align='center', width=350)\n\n    # add border to the text to see the effect of center alignment\n    t.add_border()\n\ndisplay_matplotlib(gcs())"
      ], 
      "outputs": [], 
      "metadata": {
        "collapsed": false
      }
    }, 
    {
      "source": [
        "Module arguments\n================\n\n.. autoclass:: beampy.text\n   :noindex:\n\n\n"
      ], 
      "cell_type": "markdown", 
      "metadata": {}
    }
  ], 
  "metadata": {
    "kernelspec": {
      "display_name": "Python 2", 
      "name": "python2", 
      "language": "python"
    }, 
    "language_info": {
      "mimetype": "text/x-python", 
      "nbconvert_exporter": "python", 
      "name": "python", 
      "file_extension": ".py", 
      "version": "2.7.16", 
      "pygments_lexer": "ipython2", 
      "codemirror_mode": {
        "version": 2, 
        "name": "ipython"
      }
    }
  }
}