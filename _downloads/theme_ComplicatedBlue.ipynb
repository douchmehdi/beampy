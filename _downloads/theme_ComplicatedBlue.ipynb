{
  "nbformat_minor": 0, 
  "nbformat": 4, 
  "cells": [
    {
      "execution_count": null, 
      "cell_type": "code", 
      "source": [
        "%matplotlib inline"
      ], 
      "outputs": [], 
      "metadata": {
        "collapsed": false
      }
    }, 
    {
      "source": [
        "\nComplicatedBlue\n===============\n\nRedefine title page with new arguments and a page layout with add a progress\nbar and slide numbers.\n\n.. raw:: html\n\n   <iframe src=\"../_static/theme_html_outputs/complicatedblue.html\" width=\"100%\" height=\"500px\"></iframe>\n\n\n"
      ], 
      "cell_type": "markdown", 
      "metadata": {}
    }, 
    {
      "execution_count": null, 
      "cell_type": "code", 
      "source": [
        "from beampy import *\n\ndoc = document(theme=\"ComplicatedBlue\", quiet=True)\n\nwith slide():\n    maketitle('Beampy theme ``ComplicatedBlue\"',\n              author=['Author 1', 'Author 2'],\n              lead_author=1,\n              meeting='Beampy Users Meeting (BUM 2018)',\n              affiliation='From Univ. of Python',\n              date='now')\n\nwith slide('Slide title are in blue'):\n    pass\n\nwith slide('Last slide'):\n    text('This them includes a progress-bar !')\n\nsave('./theme_html_outputs/complicatedblue.html')\n\ndisplay_matplotlib('slide_0')"
      ], 
      "outputs": [], 
      "metadata": {
        "collapsed": false
      }
    }
  ], 
  "metadata": {
    "kernelspec": {
      "display_name": "Python 2", 
      "name": "python2", 
      "language": "python"
    }, 
    "language_info": {
      "mimetype": "text/x-python", 
      "nbconvert_exporter": "python", 
      "name": "python", 
      "file_extension": ".py", 
      "version": "2.7.16", 
      "pygments_lexer": "ipython2", 
      "codemirror_mode": {
        "version": 2, 
        "name": "ipython"
      }
    }
  }
}